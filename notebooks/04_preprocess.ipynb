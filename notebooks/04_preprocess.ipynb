{
 "cells": [
  {
   "cell_type": "markdown",
   "id": "77e8951d-e34c-45f1-929c-0dbdb6be646b",
   "metadata": {},
   "source": [
    "# Preprocess\n",
    "\n",
    "## なにをするのか\n",
    "\n",
    "Datasetを機械学習モデルが認識しやすい形に変換し、Preprocessed Datasetを作成します。必要に応じデータ同士を組み合わせて新しいデータを作るFeature Engineeringを行います。\n",
    "\n",
    "## なぜやるのか\n",
    "\n",
    "人間に理解しやすいデータと機械学習モデルにとって理解しやすいデータは異なります。また、テキストや文字データはそのままでは機械学習モデルに入力できないため、数値表現に変換する必要があります。きちんとした定義はありませんが、データの欠損や外れ値の除去などネガティブな要素を低減するための処理を前処理、データの特徴をより強調したり学習しやすい形式に変換する処理をFeature Engineeringと呼びます。\n",
    "\n",
    "## どうやるのか\n",
    "\n",
    "データには画像、テキスト、音声、数値項目、カテゴリ項目など様々な種類があり、データの種類ごとに前処理、Feature Engineeringの手法は異なります。本章は基本的な数値項目とカテゴリ項目の前処理についてプログラミング演習を行います。"
   ]
  },
  {
   "cell_type": "markdown",
   "id": "d415be91-a949-49cb-9123-668cfc409ea5",
   "metadata": {},
   "source": [
    "### プログラミング演習\n",
    "\n",
    "#### 数値項目の前処理\n",
    "\n",
    "数値項目の代表的な前処理は標準化です。数値項目の値を平均0、分散1に値をそろえる処理です。項目によって値の範囲がばらばらである時、標準化を行うことで学習がしやすくなります。演習では`scikit-learn`の`StandardScaler`を用いた標準化の方法と、標準化の効果を学びます。\n",
    "\n",
    "まず、データを読み込みます。"
   ]
  },
  {
   "cell_type": "code",
   "execution_count": 1,
   "id": "f8abb95f-1320-4c6a-a376-46e094087b4b",
   "metadata": {},
   "outputs": [],
   "source": [
    "from pathlib import Path\n",
    "import pandas as pd\n",
    "\n",
    "\n",
    "raw_data_path = Path(\"../data/raw/house_prices.csv\")\n",
    "house_price_df = pd.read_csv(raw_data_path, na_values=\"?\")"
   ]
  },
  {
   "cell_type": "markdown",
   "id": "47af4a51-7b23-4b83-9cd0-e313a55c2a47",
   "metadata": {},
   "source": [
    "`SalePrice`を[`StandardScaler`](https://scikit-learn.org/stable/modules/generated/sklearn.preprocessing.StandardScaler.html)で標準化してみましょう。`StandardScaler`は標準化を行うためのクラスです。標準化前の`SalePrice`の統計量は次の通りです。"
   ]
  },
  {
   "cell_type": "code",
   "execution_count": 2,
   "id": "920aed15-be83-4e78-bdf4-a96be10185a7",
   "metadata": {},
   "outputs": [
    {
     "data": {
      "text/plain": [
       "count      1460.000000\n",
       "mean     180921.195890\n",
       "std       79442.502883\n",
       "min       34900.000000\n",
       "25%      129975.000000\n",
       "50%      163000.000000\n",
       "75%      214000.000000\n",
       "max      755000.000000\n",
       "Name: SalePrice, dtype: float64"
      ]
     },
     "execution_count": 2,
     "metadata": {},
     "output_type": "execute_result"
    }
   ],
   "source": [
    "house_price_df[\"SalePrice\"].describe()"
   ]
  },
  {
   "cell_type": "markdown",
   "id": "b4e53940-3ba0-496b-99d5-db778e9dc46f",
   "metadata": {},
   "source": [
    "`StandardScaler`で標準化してみましょう。"
   ]
  },
  {
   "cell_type": "code",
   "execution_count": 3,
   "id": "390fa7b2-88da-4342-b9ca-e8b8980b603b",
   "metadata": {},
   "outputs": [
    {
     "data": {
      "text/html": [
       "<div>\n",
       "<style scoped>\n",
       "    .dataframe tbody tr th:only-of-type {\n",
       "        vertical-align: middle;\n",
       "    }\n",
       "\n",
       "    .dataframe tbody tr th {\n",
       "        vertical-align: top;\n",
       "    }\n",
       "\n",
       "    .dataframe thead th {\n",
       "        text-align: right;\n",
       "    }\n",
       "</style>\n",
       "<table border=\"1\" class=\"dataframe\">\n",
       "  <thead>\n",
       "    <tr style=\"text-align: right;\">\n",
       "      <th></th>\n",
       "      <th>0</th>\n",
       "    </tr>\n",
       "  </thead>\n",
       "  <tbody>\n",
       "    <tr>\n",
       "      <th>count</th>\n",
       "      <td>1.460000e+03</td>\n",
       "    </tr>\n",
       "    <tr>\n",
       "      <th>mean</th>\n",
       "      <td>1.362685e-16</td>\n",
       "    </tr>\n",
       "    <tr>\n",
       "      <th>std</th>\n",
       "      <td>1.000343e+00</td>\n",
       "    </tr>\n",
       "    <tr>\n",
       "      <th>min</th>\n",
       "      <td>-1.838704e+00</td>\n",
       "    </tr>\n",
       "    <tr>\n",
       "      <th>25%</th>\n",
       "      <td>-6.415162e-01</td>\n",
       "    </tr>\n",
       "    <tr>\n",
       "      <th>50%</th>\n",
       "      <td>-2.256643e-01</td>\n",
       "    </tr>\n",
       "    <tr>\n",
       "      <th>75%</th>\n",
       "      <td>4.165294e-01</td>\n",
       "    </tr>\n",
       "    <tr>\n",
       "      <th>max</th>\n",
       "      <td>7.228819e+00</td>\n",
       "    </tr>\n",
       "  </tbody>\n",
       "</table>\n",
       "</div>"
      ],
      "text/plain": [
       "                  0\n",
       "count  1.460000e+03\n",
       "mean   1.362685e-16\n",
       "std    1.000343e+00\n",
       "min   -1.838704e+00\n",
       "25%   -6.415162e-01\n",
       "50%   -2.256643e-01\n",
       "75%    4.165294e-01\n",
       "max    7.228819e+00"
      ]
     },
     "execution_count": 3,
     "metadata": {},
     "output_type": "execute_result"
    }
   ],
   "source": [
    "from sklearn.preprocessing import StandardScaler\n",
    "\n",
    "\n",
    "saleprice_scaler = StandardScaler()\n",
    "saleprice_scaler.fit(house_price_df[\"SalePrice\"].values.reshape((-1, 1)))\n",
    "scaled_saleprice = saleprice_scaler.transform(house_price_df[\"SalePrice\"].values.reshape((-1, 1)))\n",
    "pd.DataFrame(scaled_saleprice).describe()"
   ]
  },
  {
   "cell_type": "markdown",
   "id": "d4d71402-e282-47e5-9084-5acbf00a6d6c",
   "metadata": {},
   "source": [
    "平均(mean)は0、標準偏差は1に近くなっていることがわかります。\n",
    "\n",
    "*Exercise: SalePrice以外の数値項目で標準化を試してみましょう 例: GrLivArea, GarageCars, GarageArea*"
   ]
  },
  {
   "cell_type": "code",
   "execution_count": 4,
   "id": "665dca56-d837-4f47-88e8-ce4cf2747097",
   "metadata": {},
   "outputs": [
    {
     "data": {
      "text/html": [
       "<div>\n",
       "<style scoped>\n",
       "    .dataframe tbody tr th:only-of-type {\n",
       "        vertical-align: middle;\n",
       "    }\n",
       "\n",
       "    .dataframe tbody tr th {\n",
       "        vertical-align: top;\n",
       "    }\n",
       "\n",
       "    .dataframe thead th {\n",
       "        text-align: right;\n",
       "    }\n",
       "</style>\n",
       "<table border=\"1\" class=\"dataframe\">\n",
       "  <thead>\n",
       "    <tr style=\"text-align: right;\">\n",
       "      <th></th>\n",
       "      <th>Before</th>\n",
       "      <th>After</th>\n",
       "    </tr>\n",
       "  </thead>\n",
       "  <tbody>\n",
       "    <tr>\n",
       "      <th>count</th>\n",
       "      <td>1460.000000</td>\n",
       "      <td>1.460000e+03</td>\n",
       "    </tr>\n",
       "    <tr>\n",
       "      <th>mean</th>\n",
       "      <td>1515.463699</td>\n",
       "      <td>-1.277517e-16</td>\n",
       "    </tr>\n",
       "    <tr>\n",
       "      <th>std</th>\n",
       "      <td>525.480383</td>\n",
       "      <td>1.000343e+00</td>\n",
       "    </tr>\n",
       "    <tr>\n",
       "      <th>min</th>\n",
       "      <td>334.000000</td>\n",
       "      <td>-2.249120e+00</td>\n",
       "    </tr>\n",
       "    <tr>\n",
       "      <th>25%</th>\n",
       "      <td>1129.500000</td>\n",
       "      <td>-7.347485e-01</td>\n",
       "    </tr>\n",
       "    <tr>\n",
       "      <th>50%</th>\n",
       "      <td>1464.000000</td>\n",
       "      <td>-9.797004e-02</td>\n",
       "    </tr>\n",
       "    <tr>\n",
       "      <th>75%</th>\n",
       "      <td>1776.750000</td>\n",
       "      <td>4.974036e-01</td>\n",
       "    </tr>\n",
       "    <tr>\n",
       "      <th>max</th>\n",
       "      <td>5642.000000</td>\n",
       "      <td>7.855574e+00</td>\n",
       "    </tr>\n",
       "  </tbody>\n",
       "</table>\n",
       "</div>"
      ],
      "text/plain": [
       "            Before         After\n",
       "count  1460.000000  1.460000e+03\n",
       "mean   1515.463699 -1.277517e-16\n",
       "std     525.480383  1.000343e+00\n",
       "min     334.000000 -2.249120e+00\n",
       "25%    1129.500000 -7.347485e-01\n",
       "50%    1464.000000 -9.797004e-02\n",
       "75%    1776.750000  4.974036e-01\n",
       "max    5642.000000  7.855574e+00"
      ]
     },
     "execution_count": 4,
     "metadata": {},
     "output_type": "execute_result"
    }
   ],
   "source": [
    "scaler_target_name = \"GrLivArea\"\n",
    "scaler = StandardScaler()\n",
    "scaler.fit(house_price_df[scaler_target_name].values.reshape((-1, 1)))\n",
    "scaled_value = scaler.transform(house_price_df[scaler_target_name].values.reshape((-1, 1)))\n",
    "before_after = pd.DataFrame({\n",
    "    \"Before\": house_price_df[scaler_target_name],\n",
    "    \"After\": pd.Series(scaled_value.flatten())})\n",
    "\n",
    "before_after.describe()"
   ]
  },
  {
   "cell_type": "markdown",
   "id": "73bd1cf7-7bae-4f66-ba85-a3d73d6569bc",
   "metadata": {},
   "source": [
    "標準化の効果を、データ同士の分布から確認します。SalePriceとそれ以外の数値項目はデータの値の範囲が異なります。散布図をプロットすると、値が大きい方の軸にデータが偏ることがわかります。"
   ]
  },
  {
   "cell_type": "code",
   "execution_count": 5,
   "id": "774eec13-3de7-4f04-9f61-6b6606bd2282",
   "metadata": {},
   "outputs": [
    {
     "data": {
      "text/plain": [
       "<AxesSubplot:xlabel='GrLivArea(Before)', ylabel='SalePrice'>"
      ]
     },
     "execution_count": 5,
     "metadata": {},
     "output_type": "execute_result"
    },
    {
     "data": {
      "image/png": "[encoded data removed]",
      "text/plain": [
       "<Figure size 432x288 with 1 Axes>"
      ]
     },
     "metadata": {
      "needs_background": "light"
     },
     "output_type": "display_data"
    }
   ],
   "source": [
    "pd.DataFrame({\n",
    "    \"SalePrice\": house_price_df[\"SalePrice\"],\n",
    "    f\"{scaler_target_name}(Before)\": before_after[\"Before\"]\n",
    "}).plot.scatter(x=f\"{scaler_target_name}(Before)\", y=\"SalePrice\", xlim=[0, 100000], ylim=[0, 100000])"
   ]
  },
  {
   "cell_type": "markdown",
   "id": "94e5d436-e350-42c7-9df5-61543d27db2a",
   "metadata": {},
   "source": [
    "標準化を行うことでお互いの値の範囲が平均0、分散1になります。散布図を描くと、値の範囲の異なりによる偏りが解消されることがわかります。"
   ]
  },
  {
   "cell_type": "code",
   "execution_count": 6,
   "id": "227f0375-8b4b-4b35-abea-a02ca74b0c63",
   "metadata": {},
   "outputs": [
    {
     "data": {
      "text/plain": [
       "<AxesSubplot:xlabel='GrLivArea(After)', ylabel='SalePrice(Scaled)'>"
      ]
     },
     "execution_count": 6,
     "metadata": {},
     "output_type": "execute_result"
    },
    {
     "data": {
      "image/png": "[encoded data removed]",
      "text/plain": [
       "<Figure size 432x288 with 1 Axes>"
      ]
     },
     "metadata": {
      "needs_background": "light"
     },
     "output_type": "display_data"
    }
   ],
   "source": [
    "pd.DataFrame({\n",
    "    \"SalePrice(Scaled)\": pd.Series(scaled_saleprice.flatten()),\n",
    "    f\"{scaler_target_name}(After)\": before_after[\"After\"]\n",
    "}).plot.scatter(x=f\"{scaler_target_name}(After)\", y=\"SalePrice(Scaled)\", xlim=[-2, 2], ylim=[-2, 2])"
   ]
  },
  {
   "cell_type": "markdown",
   "id": "247ccffe-51de-44f3-bd43-79d76ebc0d1b",
   "metadata": {},
   "source": [
    "#### カテゴリ項目の前処理\n",
    "\n",
    "カテゴリ項目の前処理は、数値に変換することです。カテゴリ項目とは、ドロップダウンリストやラジオボタンから選択するような項目です。項目の値は文字やテキストなので、そのままでは機械学習モデルで扱うことができません。\n",
    "\n",
    "カテゴリ項目を数値に変換する方法は2つあります。1つ目は、単純に項目ごと上から順に番号を割り当てる手法です。`scikit-learn`では`OrdinalEncoder`で実装できます。`ExterCond`を`OrdinalEncoder`で数値にしてみましょう。"
   ]
  },
  {
   "cell_type": "code",
   "execution_count": 7,
   "id": "c48b1492-8f1d-4d21-9b0f-a645bd71c47b",
   "metadata": {},
   "outputs": [
    {
     "data": {
      "text/plain": [
       "TA    1282\n",
       "Gd     146\n",
       "Fa      28\n",
       "Ex       3\n",
       "Po       1\n",
       "Name: ExterCond, dtype: int64"
      ]
     },
     "execution_count": 7,
     "metadata": {},
     "output_type": "execute_result"
    }
   ],
   "source": [
    "house_price_df[\"ExterCond\"].value_counts()"
   ]
  },
  {
   "cell_type": "code",
   "execution_count": 8,
   "id": "8c396e29-66c9-49c0-a707-bd9c67efe70a",
   "metadata": {},
   "outputs": [
    {
     "data": {
      "text/plain": [
       "4.0    1282\n",
       "2.0     146\n",
       "1.0      28\n",
       "0.0       3\n",
       "3.0       1\n",
       "dtype: int64"
      ]
     },
     "execution_count": 8,
     "metadata": {},
     "output_type": "execute_result"
    }
   ],
   "source": [
    "from sklearn.preprocessing import OrdinalEncoder\n",
    "\n",
    "\n",
    "ordinal_encoder = OrdinalEncoder()\n",
    "ordinal_encoder.fit(house_price_df[\"ExterCond\"].values.reshape((-1, 1)))\n",
    "ordinal_encoded_category = ordinal_encoder.transform(house_price_df[\"ExterCond\"].values.reshape((-1, 1)))\n",
    "pd.Series(ordinal_encoded_category.flatten()).value_counts()"
   ]
  },
  {
   "cell_type": "markdown",
   "id": "8fcbecca-665b-4248-a7c8-3466ed5dbeff",
   "metadata": {},
   "source": [
    "数値に変換できていることがわかります。ただ、数値にすることで項目間に順列性が発生します。日本、アメリカ、イギリス、という項目があったとして、これを数値に変換すると0,1,2となり日本<アメリカという数値上の関係が発生してしまいます。順列関係が好ましくない場合は、2つ目の方法として値ごとに項目を分離します。「日本」「アメリカ」「イギリス」という項目を作って、チェックがあれば1、それ以外は0とします。`scikit-learn`では`OnehotEncoding`で実装できます。"
   ]
  },
  {
   "cell_type": "code",
   "execution_count": 9,
   "id": "01cd1b01-4c49-4be6-bbe7-35883e02b9fc",
   "metadata": {},
   "outputs": [
    {
     "data": {
      "text/html": [
       "<div>\n",
       "<style scoped>\n",
       "    .dataframe tbody tr th:only-of-type {\n",
       "        vertical-align: middle;\n",
       "    }\n",
       "\n",
       "    .dataframe tbody tr th {\n",
       "        vertical-align: top;\n",
       "    }\n",
       "\n",
       "    .dataframe thead tr th {\n",
       "        text-align: left;\n",
       "    }\n",
       "</style>\n",
       "<table border=\"1\" class=\"dataframe\">\n",
       "  <thead>\n",
       "    <tr>\n",
       "      <th></th>\n",
       "      <th>Ex</th>\n",
       "      <th>Fa</th>\n",
       "      <th>Gd</th>\n",
       "      <th>Po</th>\n",
       "      <th>TA</th>\n",
       "    </tr>\n",
       "  </thead>\n",
       "  <tbody>\n",
       "    <tr>\n",
       "      <th>0</th>\n",
       "      <td>0</td>\n",
       "      <td>0</td>\n",
       "      <td>0</td>\n",
       "      <td>0</td>\n",
       "      <td>1</td>\n",
       "    </tr>\n",
       "    <tr>\n",
       "      <th>1</th>\n",
       "      <td>0</td>\n",
       "      <td>0</td>\n",
       "      <td>0</td>\n",
       "      <td>0</td>\n",
       "      <td>1</td>\n",
       "    </tr>\n",
       "    <tr>\n",
       "      <th>2</th>\n",
       "      <td>0</td>\n",
       "      <td>0</td>\n",
       "      <td>0</td>\n",
       "      <td>0</td>\n",
       "      <td>1</td>\n",
       "    </tr>\n",
       "    <tr>\n",
       "      <th>3</th>\n",
       "      <td>0</td>\n",
       "      <td>0</td>\n",
       "      <td>0</td>\n",
       "      <td>0</td>\n",
       "      <td>1</td>\n",
       "    </tr>\n",
       "    <tr>\n",
       "      <th>4</th>\n",
       "      <td>0</td>\n",
       "      <td>0</td>\n",
       "      <td>0</td>\n",
       "      <td>0</td>\n",
       "      <td>1</td>\n",
       "    </tr>\n",
       "    <tr>\n",
       "      <th>...</th>\n",
       "      <td>...</td>\n",
       "      <td>...</td>\n",
       "      <td>...</td>\n",
       "      <td>...</td>\n",
       "      <td>...</td>\n",
       "    </tr>\n",
       "    <tr>\n",
       "      <th>1455</th>\n",
       "      <td>0</td>\n",
       "      <td>0</td>\n",
       "      <td>0</td>\n",
       "      <td>0</td>\n",
       "      <td>1</td>\n",
       "    </tr>\n",
       "    <tr>\n",
       "      <th>1456</th>\n",
       "      <td>0</td>\n",
       "      <td>0</td>\n",
       "      <td>0</td>\n",
       "      <td>0</td>\n",
       "      <td>1</td>\n",
       "    </tr>\n",
       "    <tr>\n",
       "      <th>1457</th>\n",
       "      <td>0</td>\n",
       "      <td>0</td>\n",
       "      <td>1</td>\n",
       "      <td>0</td>\n",
       "      <td>0</td>\n",
       "    </tr>\n",
       "    <tr>\n",
       "      <th>1458</th>\n",
       "      <td>0</td>\n",
       "      <td>0</td>\n",
       "      <td>0</td>\n",
       "      <td>0</td>\n",
       "      <td>1</td>\n",
       "    </tr>\n",
       "    <tr>\n",
       "      <th>1459</th>\n",
       "      <td>0</td>\n",
       "      <td>0</td>\n",
       "      <td>0</td>\n",
       "      <td>0</td>\n",
       "      <td>1</td>\n",
       "    </tr>\n",
       "  </tbody>\n",
       "</table>\n",
       "<p>1460 rows × 5 columns</p>\n",
       "</div>"
      ],
      "text/plain": [
       "     Ex Fa Gd Po TA\n",
       "0     0  0  0  0  1\n",
       "1     0  0  0  0  1\n",
       "2     0  0  0  0  1\n",
       "3     0  0  0  0  1\n",
       "4     0  0  0  0  1\n",
       "...  .. .. .. .. ..\n",
       "1455  0  0  0  0  1\n",
       "1456  0  0  0  0  1\n",
       "1457  0  0  1  0  0\n",
       "1458  0  0  0  0  1\n",
       "1459  0  0  0  0  1\n",
       "\n",
       "[1460 rows x 5 columns]"
      ]
     },
     "execution_count": 9,
     "metadata": {},
     "output_type": "execute_result"
    }
   ],
   "source": [
    "from sklearn.preprocessing import OneHotEncoder\n",
    "\n",
    "\n",
    "one_hot_encoder = OneHotEncoder(handle_unknown=\"ignore\")\n",
    "one_hot_encoder.fit(house_price_df[\"ExterCond\"].values.reshape((-1, 1)))\n",
    "encoded_category = one_hot_encoder.transform(house_price_df[\"ExterCond\"].values.reshape((-1, 1)))\n",
    "pd.DataFrame(encoded_category.toarray().astype(\"int64\"), columns=one_hot_encoder.categories_)"
   ]
  },
  {
   "cell_type": "markdown",
   "id": "6595e25f-9746-475b-9161-14c9e25ef751",
   "metadata": {},
   "source": [
    "数値項目、カテゴリ項目の前処理については以上となります。前処理に加えて、データを加工したり組み合わせるFeature Engineeringを行うことで、データの傾向を顕著に表す特徴を作成する場合もあります。詳細はReferenceを参照してください。\n",
    "\n",
    "#### 前処理の実装\n",
    "\n",
    "では、実際に前処理を行うプログラムを作成していきます。\n",
    "\n",
    "今回は数値の項目には`StandardScaler`、カテゴリの項目には`OrdinalEncoder`を適用することとします。  \n",
    "データの前提条件として、Analyzeの結果より`PoolQC`など空白が多い項目を除外しています。"
   ]
  },
  {
   "cell_type": "code",
   "execution_count": 10,
   "id": "02a96cfb-5df8-4861-9b87-f26a9bbde28e",
   "metadata": {},
   "outputs": [],
   "source": [
    "from sklearn.preprocessing import StandardScaler, OneHotEncoder\n",
    "from sklearn.compose import make_column_transformer\n",
    "\n",
    "\n",
    "# 空白の割合が高い項目を除外\n",
    "formatted_df = house_price_df.drop(columns=[\"PoolQC\", \"MiscFeature\", \"Alley\", \"Fence\", \"FireplaceQu\"], axis=1)\n",
    "\n",
    "# 数値項目、予測項目、カテゴリ項目を仕分け\n",
    "numerical_columns = formatted_df.select_dtypes(\"number\").columns\n",
    "categorical_columns = formatted_df.columns.difference(numerical_columns)\n",
    "numerical_columns = numerical_columns.drop(\"SalePrice\")\n",
    "columns = numerical_columns.tolist() + [\"SalePrice\"] + categorical_columns.tolist()\n",
    "formatted_df = formatted_df[columns]\n",
    "\n",
    "encoder = make_column_transformer(\n",
    "        (StandardScaler(), numerical_columns),\n",
    "        (StandardScaler(), [\"SalePrice\"]),\n",
    "        (OrdinalEncoder(), categorical_columns),\n",
    ")"
   ]
  },
  {
   "cell_type": "markdown",
   "id": "4ba43274-6e07-4914-8030-a93aaa93b564",
   "metadata": {},
   "source": [
    "Trainで使用する学習用データ、Testで使用する評価用データに分割を行います。前処理済みのデータを作成するのは学習用データのみとし、評価用データは評価時に前処理を行うことにします。評価をなるべく実際のデータに近い状態から行うようにするためです。"
   ]
  },
  {
   "cell_type": "code",
   "execution_count": 11,
   "id": "0a5b751e-4d0e-40f3-9fb6-eecb10a87647",
   "metadata": {},
   "outputs": [],
   "source": [
    "from sklearn.model_selection import train_test_split\n",
    "\n",
    "\n",
    "train_df, test_df = train_test_split(formatted_df, test_size=0.3) "
   ]
  },
  {
   "cell_type": "markdown",
   "id": "7c915e20-9fd2-4ab9-b685-9d69b82c1372",
   "metadata": {},
   "source": [
    "Analyzeの結果70万ドルを超える高額住宅が予測に悪影響を与えそうなことがわかっているため、学習用データから除外します。"
   ]
  },
  {
   "cell_type": "code",
   "execution_count": 12,
   "id": "1ac1b405-bdc5-4c5c-b41a-e7b44f2a6278",
   "metadata": {},
   "outputs": [],
   "source": [
    "train_df = train_df[train_df[\"SalePrice\"] < 700000]"
   ]
  },
  {
   "cell_type": "markdown",
   "id": "43dbbaad-b238-4060-87e1-bafcb3e270f9",
   "metadata": {},
   "source": [
    "学習用データの前処理を実行します。欠損値については中央値で穴埋めを行います。"
   ]
  },
  {
   "cell_type": "code",
   "execution_count": 13,
   "id": "da2b4049-7ac9-4edd-89e3-98feb1b3fd4a",
   "metadata": {},
   "outputs": [],
   "source": [
    "encoder.fit(pd.concat([train_df, test_df]))\n",
    "preprocessed_train = encoder.transform(train_df)\n",
    "preprocessed_train_df = pd.DataFrame(preprocessed_train, columns=columns)\n",
    "preprocessed_train_df = preprocessed_train_df.fillna(preprocessed_train_df.median())"
   ]
  },
  {
   "cell_type": "markdown",
   "id": "da81bb70-7bf8-4741-960c-c5a82fa8c8af",
   "metadata": {},
   "source": [
    "前処理済みの学習データは次のようになります。"
   ]
  },
  {
   "cell_type": "code",
   "execution_count": 14,
   "id": "55285dd3-7d0f-4301-803c-d1160b12eee1",
   "metadata": {},
   "outputs": [
    {
     "data": {
      "text/html": [
       "<div>\n",
       "<style scoped>\n",
       "    .dataframe tbody tr th:only-of-type {\n",
       "        vertical-align: middle;\n",
       "    }\n",
       "\n",
       "    .dataframe tbody tr th {\n",
       "        vertical-align: top;\n",
       "    }\n",
       "\n",
       "    .dataframe thead th {\n",
       "        text-align: right;\n",
       "    }\n",
       "</style>\n",
       "<table border=\"1\" class=\"dataframe\">\n",
       "  <thead>\n",
       "    <tr style=\"text-align: right;\">\n",
       "      <th></th>\n",
       "      <th>Id</th>\n",
       "      <th>MSSubClass</th>\n",
       "      <th>LotFrontage</th>\n",
       "      <th>LotArea</th>\n",
       "      <th>OverallQual</th>\n",
       "      <th>OverallCond</th>\n",
       "      <th>YearBuilt</th>\n",
       "      <th>YearRemodAdd</th>\n",
       "      <th>MasVnrArea</th>\n",
       "      <th>BsmtFinSF1</th>\n",
       "      <th>...</th>\n",
       "      <th>MSZoning</th>\n",
       "      <th>MasVnrType</th>\n",
       "      <th>Neighborhood</th>\n",
       "      <th>PavedDrive</th>\n",
       "      <th>RoofMatl</th>\n",
       "      <th>RoofStyle</th>\n",
       "      <th>SaleCondition</th>\n",
       "      <th>SaleType</th>\n",
       "      <th>Street</th>\n",
       "      <th>Utilities</th>\n",
       "    </tr>\n",
       "  </thead>\n",
       "  <tbody>\n",
       "    <tr>\n",
       "      <th>0</th>\n",
       "      <td>1.694636</td>\n",
       "      <td>-0.872215</td>\n",
       "      <td>-0.289375</td>\n",
       "      <td>-0.201389</td>\n",
       "      <td>0.654978</td>\n",
       "      <td>-0.516787</td>\n",
       "      <td>1.084470</td>\n",
       "      <td>0.927217</td>\n",
       "      <td>0.017048</td>\n",
       "      <td>-0.972807</td>\n",
       "      <td>...</td>\n",
       "      <td>3.0</td>\n",
       "      <td>1.0</td>\n",
       "      <td>5.0</td>\n",
       "      <td>2.0</td>\n",
       "      <td>1.0</td>\n",
       "      <td>1.0</td>\n",
       "      <td>4.0</td>\n",
       "      <td>8.0</td>\n",
       "      <td>1.0</td>\n",
       "      <td>0.0</td>\n",
       "    </tr>\n",
       "    <tr>\n",
       "      <th>1</th>\n",
       "      <td>-1.580912</td>\n",
       "      <td>0.309804</td>\n",
       "      <td>-0.825127</td>\n",
       "      <td>-0.020976</td>\n",
       "      <td>0.654978</td>\n",
       "      <td>0.381893</td>\n",
       "      <td>-1.664144</td>\n",
       "      <td>-1.688593</td>\n",
       "      <td>-0.575503</td>\n",
       "      <td>-0.972807</td>\n",
       "      <td>...</td>\n",
       "      <td>4.0</td>\n",
       "      <td>2.0</td>\n",
       "      <td>17.0</td>\n",
       "      <td>2.0</td>\n",
       "      <td>1.0</td>\n",
       "      <td>1.0</td>\n",
       "      <td>4.0</td>\n",
       "      <td>8.0</td>\n",
       "      <td>1.0</td>\n",
       "      <td>0.0</td>\n",
       "    </tr>\n",
       "    <tr>\n",
       "      <th>2</th>\n",
       "      <td>1.587902</td>\n",
       "      <td>-0.163004</td>\n",
       "      <td>-0.783915</td>\n",
       "      <td>-0.434824</td>\n",
       "      <td>-0.070070</td>\n",
       "      <td>0.381893</td>\n",
       "      <td>-1.531681</td>\n",
       "      <td>0.249044</td>\n",
       "      <td>-0.575503</td>\n",
       "      <td>-0.393005</td>\n",
       "      <td>...</td>\n",
       "      <td>3.0</td>\n",
       "      <td>2.0</td>\n",
       "      <td>18.0</td>\n",
       "      <td>2.0</td>\n",
       "      <td>1.0</td>\n",
       "      <td>1.0</td>\n",
       "      <td>4.0</td>\n",
       "      <td>8.0</td>\n",
       "      <td>1.0</td>\n",
       "      <td>0.0</td>\n",
       "    </tr>\n",
       "    <tr>\n",
       "      <th>3</th>\n",
       "      <td>-0.404466</td>\n",
       "      <td>1.491823</td>\n",
       "      <td>-0.083316</td>\n",
       "      <td>-0.733007</td>\n",
       "      <td>0.654978</td>\n",
       "      <td>-0.516787</td>\n",
       "      <td>1.051354</td>\n",
       "      <td>0.927217</td>\n",
       "      <td>-0.474881</td>\n",
       "      <td>-0.972807</td>\n",
       "      <td>...</td>\n",
       "      <td>3.0</td>\n",
       "      <td>1.0</td>\n",
       "      <td>0.0</td>\n",
       "      <td>2.0</td>\n",
       "      <td>1.0</td>\n",
       "      <td>1.0</td>\n",
       "      <td>4.0</td>\n",
       "      <td>8.0</td>\n",
       "      <td>1.0</td>\n",
       "      <td>0.0</td>\n",
       "    </tr>\n",
       "    <tr>\n",
       "      <th>4</th>\n",
       "      <td>0.188501</td>\n",
       "      <td>0.428006</td>\n",
       "      <td>0.823341</td>\n",
       "      <td>-0.241481</td>\n",
       "      <td>-0.795118</td>\n",
       "      <td>-0.516787</td>\n",
       "      <td>-2.425809</td>\n",
       "      <td>-0.961979</td>\n",
       "      <td>-0.575503</td>\n",
       "      <td>-0.972807</td>\n",
       "      <td>...</td>\n",
       "      <td>4.0</td>\n",
       "      <td>2.0</td>\n",
       "      <td>17.0</td>\n",
       "      <td>0.0</td>\n",
       "      <td>1.0</td>\n",
       "      <td>3.0</td>\n",
       "      <td>4.0</td>\n",
       "      <td>8.0</td>\n",
       "      <td>1.0</td>\n",
       "      <td>0.0</td>\n",
       "    </tr>\n",
       "  </tbody>\n",
       "</table>\n",
       "<p>5 rows × 76 columns</p>\n",
       "</div>"
      ],
      "text/plain": [
       "         Id  MSSubClass  LotFrontage   LotArea  OverallQual  OverallCond  \\\n",
       "0  1.694636   -0.872215    -0.289375 -0.201389     0.654978    -0.516787   \n",
       "1 -1.580912    0.309804    -0.825127 -0.020976     0.654978     0.381893   \n",
       "2  1.587902   -0.163004    -0.783915 -0.434824    -0.070070     0.381893   \n",
       "3 -0.404466    1.491823    -0.083316 -0.733007     0.654978    -0.516787   \n",
       "4  0.188501    0.428006     0.823341 -0.241481    -0.795118    -0.516787   \n",
       "\n",
       "   YearBuilt  YearRemodAdd  MasVnrArea  BsmtFinSF1  ...  MSZoning  MasVnrType  \\\n",
       "0   1.084470      0.927217    0.017048   -0.972807  ...       3.0         1.0   \n",
       "1  -1.664144     -1.688593   -0.575503   -0.972807  ...       4.0         2.0   \n",
       "2  -1.531681      0.249044   -0.575503   -0.393005  ...       3.0         2.0   \n",
       "3   1.051354      0.927217   -0.474881   -0.972807  ...       3.0         1.0   \n",
       "4  -2.425809     -0.961979   -0.575503   -0.972807  ...       4.0         2.0   \n",
       "\n",
       "   Neighborhood  PavedDrive  RoofMatl  RoofStyle  SaleCondition  SaleType  \\\n",
       "0           5.0         2.0       1.0        1.0            4.0       8.0   \n",
       "1          17.0         2.0       1.0        1.0            4.0       8.0   \n",
       "2          18.0         2.0       1.0        1.0            4.0       8.0   \n",
       "3           0.0         2.0       1.0        1.0            4.0       8.0   \n",
       "4          17.0         0.0       1.0        3.0            4.0       8.0   \n",
       "\n",
       "   Street  Utilities  \n",
       "0     1.0        0.0  \n",
       "1     1.0        0.0  \n",
       "2     1.0        0.0  \n",
       "3     1.0        0.0  \n",
       "4     1.0        0.0  \n",
       "\n",
       "[5 rows x 76 columns]"
      ]
     },
     "execution_count": 14,
     "metadata": {},
     "output_type": "execute_result"
    }
   ],
   "source": [
    "preprocessed_train_df.head(5)"
   ]
  },
  {
   "cell_type": "markdown",
   "id": "85e974cf-0bc6-4b84-b467-4a4174ec72b2",
   "metadata": {},
   "source": [
    "Preprocessの終わりに、前処理済みの学習用データと評価用データを保存します。評価用データは前処理していないため、`interim`に保存しています。"
   ]
  },
  {
   "cell_type": "code",
   "execution_count": 15,
   "id": "6bad7ce5-602d-40a3-8e84-7a9bec34da2c",
   "metadata": {},
   "outputs": [],
   "source": [
    "preprocessed_train_df.to_csv(Path(\"../data/processed/train.csv\"), index=False)\n",
    "test_df.to_csv(Path(\"../data/interim/test.csv\"), index=False)"
   ]
  },
  {
   "cell_type": "markdown",
   "id": "6180fd16-9a99-44fd-ad1b-f6214b0fabcd",
   "metadata": {},
   "source": [
    "評価を行う際時に前処理を行う必要があるため、前処理のプロセスも保存します。"
   ]
  },
  {
   "cell_type": "code",
   "execution_count": 16,
   "id": "2ea3e088-5305-4445-ac11-1a8b437c6453",
   "metadata": {},
   "outputs": [
    {
     "data": {
      "text/plain": [
       "['../model/encoder.joblib']"
      ]
     },
     "execution_count": 16,
     "metadata": {},
     "output_type": "execute_result"
    }
   ],
   "source": [
    "from joblib import dump\n",
    "\n",
    "\n",
    "encoder_path = Path(\"../model/encoder.joblib\")\n",
    "dump(encoder, encoder_path) "
   ]
  },
  {
   "cell_type": "markdown",
   "id": "48857473-18f4-48ae-9888-9c7ec460dd0f",
   "metadata": {},
   "source": [
    "### コミュニケーション演習\n",
    "\n",
    "データサイエンティストとして次のPreprocessを行いました。項目に対し適切な前処理を行っているか確認するには、誰にどのような質問をすべきでしょうか。\n",
    "\n",
    "* 数値項目には標準化を行う`StandardScaler`を適用しました。\n",
    "* カテゴリ項目には**順列性が生まれる**`OrdinalEncoder`を適用しました。\n",
    "* Analyze結果に基づいた**データの除外**を行いました。\n",
    "\n",
    "\n",
    "| 英語名             | 日本語名                   | 役割                                                                 |\n",
    "|--------------------|----------------------------|------------------------------|\n",
    "| Product Manager    | プロダクトマネージャー     | ユーザー体験を向上させるために実装すべきソフトウェア機能を定義する。 |\n",
    "| Business Analyst   | ビジネスアナリスト         | 解決すべきビジネス上の問題を定義する                                 |\n",
    "| Data Analyst       | データアナリスト           | データの可視化と分析で問題を定量的に特定する。                       |\n",
    "| Architect          | アーキテクト               | ソフトウェアアーキテクチャ全体を設計する。                           |\n",
    "| DevOps Engineer    | DevOpsエンジニア           | ソフトウェアの開発・運用プロセスを自動化する。                       |\n",
    "| Software Engineer  | ソフトウェアエンジニア     | ソフトウェアの開発を行う。                                           |\n",
    "| Operator           | 業務担当者                 | ソフトウェアを利用し業務を行う。                                     |\n",
    "| System Admin       | システム管理者             | サービスの挙動を監視する。                                           |\n",
    "| IT Auditor         | IT監督者                   | システムや会社全体の権限管理や監査を行う。                           |\n",
    "| Data architect     | データアーキテクト         | データを管理する基盤を設計、運用する。                               |\n",
    "| Domain Expert      | 業務有識者                 | 深い業務知識を持ちデータの意味やあるべき状態について定義する。       |\n",
    "| Data Scientist     | データサイエンティスト     | 機械学習モデルを開発する。                                           |\n",
    "\n",
    "\n",
    "#### 質問例\n",
    "\n",
    "* Data Analyst\n",
    "   * 現在分析を行うにどのような前処理をしていますか。\n",
    "* Product Manager\n",
    "   * 機械学習モデルの構築において、Analyzeにおいて除外すべきと判断したデータを除外しました(報告)。\n",
    "\n",
    "## Next Step\n",
    "\n",
    "[Train](05_train.ipynb)\n",
    "\n",
    "## References\n",
    "\n",
    "1. 本橋 智光 and 株式会社ホクソエム. [前処理大全［データ分析のためのSQL/R/Python実践テクニック］](https://www.amazon.co.jp/dp/B07C3JFK3V/ref=dp-kindle-redirect?_encoding=UTF8&btkr=1). 2018.\n",
    "2. Alice Zheng, Amanda Casari and 株式会社ホクソエム. [機械学習のための特徴量エンジニアリング ―その原理とPythonによる実践](https://www.amazon.co.jp/%E6%A9%9F%E6%A2%B0%E5%AD%A6%E7%BF%92%E3%81%AE%E3%81%9F%E3%82%81%E3%81%AE%E7%89%B9%E5%BE%B4%E9%87%8F%E3%82%A8%E3%83%B3%E3%82%B8%E3%83%8B%E3%82%A2%E3%83%AA%E3%83%B3%E3%82%B0-%E2%80%95%E3%81%9D%E3%81%AE%E5%8E%9F%E7%90%86%E3%81%A8Python%E3%81%AB%E3%82%88%E3%82%8B%E5%AE%9F%E8%B7%B5-%E3%82%AA%E3%83%A9%E3%82%A4%E3%83%AA%E3%83%BC%E3%83%BB%E3%82%B8%E3%83%A3%E3%83%91%E3%83%B3-Alice-Zheng/dp/4873118689). 2019. \n",
    "3. Henrik Brink, Joseph Richards and Mark Fetherolf [Real-World Machine Learning](https://www.amazon.co.jp/dp/B097834SKF/ref=dp-kindle-redirect?_encoding=UTF8&btkr=1). 2016.\n",
    "\n",
    "関連するAWSのサービス\n",
    "\n",
    "1. Data Wrangler\n",
    "2. SageMaker Processing\n"
   ]
  }
 ],
 "metadata": {
  "kernelspec": {
   "display_name": "ml-handson:Python",
   "language": "python",
   "name": "conda-env-ml-handson-py"
  },
  "language_info": {
   "codemirror_mode": {
    "name": "ipython",
    "version": 3
   },
   "file_extension": ".py",
   "mimetype": "text/x-python",
   "name": "python",
   "nbconvert_exporter": "python",
   "pygments_lexer": "ipython3",
   "version": "3.9.10"
  },
  "toc-autonumbering": false,
  "toc-showcode": false,
  "toc-showmarkdowntxt": false
 },
 "nbformat": 4,
 "nbformat_minor": 5
}
