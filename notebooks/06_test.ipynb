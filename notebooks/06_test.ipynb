{
 "cells": [
  {
   "cell_type": "markdown",
   "id": "77e8951d-e34c-45f1-929c-0dbdb6be646b",
   "metadata": {},
   "source": [
    "# Test: 機械学習モデルを評価する\n",
    "\n",
    "## なにをするのか\n",
    "\n",
    "Modelが意図した通りに構築されているか、インプット、プロセス、アウトプットの観点から評価します。評価には、Business goalを達成できているかの評価を含めます。\n",
    "\n",
    "## なぜやるのか\n",
    "\n",
    "通常のソフトウェア開発と同様、機械学習モデルも品質を担保するためにテストを行う必要があります。また、プロジェクトを先に進めるかどうかの意思決定を行うために、ステークホルダーとともに学習した機械学習モデルでBusiness goalが達成できるか検証する必要があります。\n",
    "\n",
    "## どうやるのか\n",
    "\n",
    "機械学習モデルの品質は、3つの観点からテストが必要です。インプットとプロセスは通常のプログラムであるため、既存のソフトウェアテスト手法(単体テストなど)でテストができます。そのため、演習は3のアウトプットのテストにフォーカスします。プログラミング演習ではモデルの性能とモデルの頑健性、コミュニケーション演習で機械学習システム全体の評価を行うための質問を作成します。\n",
    "\n",
    "1. インプット\n",
    "   * 入力データの質と量\n",
    "2. プロセス\n",
    "   * データの学習・加工プロセス\n",
    "3. **アウトプット**\n",
    "   * モデルの性能\n",
    "   * モデルの頑健性\n",
    "   * 機械学習システム全体の評価\n",
    "\n",
    "### プログラミング演習\n",
    "\n",
    "#### モデルの性能\n",
    "\n",
    "モデルの性能を評価する指標は、どのようなモデルかによって異なります。今回は価格を予測する回帰の問題であるため、**二乗平均平方根誤差(RMSE)** を用います。数式で定義すると次式になります。数式が出てくるとちょっと・・・という方もいらっしゃると思いますが、予測した値と実際の値との差の平均というイメージで問題ありません。\n",
    "\n",
    "![test_001.PNG](images/06_test_001.PNG)\n",
    "*$y_i$が実際の値、$\\hat{y}_i$が予測値、$n$がデータ数になります。*\n",
    "\n",
    "RMSEを計測してみましょう。はじめにテスト用のデータ、前処理用のエンコーダーを読み込みます。"
   ]
  },
  {
   "cell_type": "code",
   "execution_count": 1,
   "id": "ded8659b-9724-49a7-bbc5-f4e6ce8c3222",
   "metadata": {},
   "outputs": [],
   "source": [
    "from pathlib import Path\n",
    "import pandas as pd\n",
    "\n",
    "\n",
    "test_data_path = Path(\"../data/interim/test.csv\")\n",
    "test_df = pd.read_csv(test_data_path)"
   ]
  },
  {
   "cell_type": "code",
   "execution_count": 2,
   "id": "7231fbaa-26e7-4d94-9e46-348727720fd9",
   "metadata": {},
   "outputs": [],
   "source": [
    "from pathlib import Path\n",
    "from joblib import load\n",
    "\n",
    "\n",
    "encoder = load(Path(\"../model/encoder.joblib\"))"
   ]
  },
  {
   "cell_type": "markdown",
   "id": "3626f72d-56f0-4753-98c6-c6b2a662bde9",
   "metadata": {},
   "source": [
    "モデルを読み込みます。"
   ]
  },
  {
   "cell_type": "code",
   "execution_count": 3,
   "id": "57524449-55fe-462e-be3b-9ec80f23d49b",
   "metadata": {},
   "outputs": [],
   "source": [
    "model = load(Path(\"../model/model.joblib\")) \n",
    "other_model = load(Path(\"../model/other_model.joblib\"))  "
   ]
  },
  {
   "cell_type": "markdown",
   "id": "0d462cc2-e874-4cf4-8b53-c83b84985a7c",
   "metadata": {},
   "source": [
    "評価では何度も予測を行うため、予測を行うための関数を準備しておきます。"
   ]
  },
  {
   "cell_type": "code",
   "execution_count": 4,
   "id": "af927141-aa31-41ae-bdd6-4f5e5d48d3a1",
   "metadata": {},
   "outputs": [],
   "source": [
    "def predict(test_df, model, prediction_name=\"SalePricePredicted\"):\n",
    "    preprocessed = encoder.transform(test_df)\n",
    "    preprocessed_df = pd.DataFrame(preprocessed, columns=test_df.columns)\n",
    "    preprocessed_df = preprocessed_df.fillna(preprocessed_df.median())\n",
    "    \n",
    "    X = preprocessed_df.drop(\"SalePrice\", axis=1)\n",
    "    y = preprocessed_df[\"SalePrice\"]\n",
    "\n",
    "    prediction = model.predict(X)\n",
    "    \n",
    "    # 予測されるのは標準化された予測値なので、元に戻す\n",
    "    inversed_y = encoder.named_transformers_[\"standardscaler-2\"].inverse_transform(prediction.reshape((-1, 1)))\n",
    "    \n",
    "    prediction_df = pd.concat([\n",
    "        test_df, pd.DataFrame(inversed_y, columns=[prediction_name]),\n",
    "    ], axis=1)\n",
    "\n",
    "    return prediction_df"
   ]
  },
  {
   "cell_type": "markdown",
   "id": "3ca6c995-4620-4a40-aafc-47ae7ce3ab5e",
   "metadata": {},
   "source": [
    "関数を使い、予測を行ってみます。"
   ]
  },
  {
   "cell_type": "code",
   "execution_count": 5,
   "id": "8850db0b-fc24-4cfe-9edd-3d6175424c24",
   "metadata": {},
   "outputs": [
    {
     "data": {
      "text/html": [
       "<div>\n",
       "<style scoped>\n",
       "    .dataframe tbody tr th:only-of-type {\n",
       "        vertical-align: middle;\n",
       "    }\n",
       "\n",
       "    .dataframe tbody tr th {\n",
       "        vertical-align: top;\n",
       "    }\n",
       "\n",
       "    .dataframe thead th {\n",
       "        text-align: right;\n",
       "    }\n",
       "</style>\n",
       "<table border=\"1\" class=\"dataframe\">\n",
       "  <thead>\n",
       "    <tr style=\"text-align: right;\">\n",
       "      <th></th>\n",
       "      <th>Id</th>\n",
       "      <th>MSSubClass</th>\n",
       "      <th>LotFrontage</th>\n",
       "      <th>LotArea</th>\n",
       "      <th>OverallQual</th>\n",
       "      <th>OverallCond</th>\n",
       "      <th>YearBuilt</th>\n",
       "      <th>YearRemodAdd</th>\n",
       "      <th>MasVnrArea</th>\n",
       "      <th>BsmtFinSF1</th>\n",
       "      <th>...</th>\n",
       "      <th>MasVnrType</th>\n",
       "      <th>Neighborhood</th>\n",
       "      <th>PavedDrive</th>\n",
       "      <th>RoofMatl</th>\n",
       "      <th>RoofStyle</th>\n",
       "      <th>SaleCondition</th>\n",
       "      <th>SaleType</th>\n",
       "      <th>Street</th>\n",
       "      <th>Utilities</th>\n",
       "      <th>SalePricePredicted</th>\n",
       "    </tr>\n",
       "  </thead>\n",
       "  <tbody>\n",
       "    <tr>\n",
       "      <th>0</th>\n",
       "      <td>1381</td>\n",
       "      <td>30</td>\n",
       "      <td>45.0</td>\n",
       "      <td>8212</td>\n",
       "      <td>3</td>\n",
       "      <td>3</td>\n",
       "      <td>1914</td>\n",
       "      <td>1950</td>\n",
       "      <td>0.0</td>\n",
       "      <td>203</td>\n",
       "      <td>...</td>\n",
       "      <td>None</td>\n",
       "      <td>Edwards</td>\n",
       "      <td>Y</td>\n",
       "      <td>CompShg</td>\n",
       "      <td>Gable</td>\n",
       "      <td>Normal</td>\n",
       "      <td>WD</td>\n",
       "      <td>Pave</td>\n",
       "      <td>AllPub</td>\n",
       "      <td>123890.435783</td>\n",
       "    </tr>\n",
       "    <tr>\n",
       "      <th>1</th>\n",
       "      <td>596</td>\n",
       "      <td>20</td>\n",
       "      <td>69.0</td>\n",
       "      <td>11302</td>\n",
       "      <td>8</td>\n",
       "      <td>5</td>\n",
       "      <td>2005</td>\n",
       "      <td>2006</td>\n",
       "      <td>238.0</td>\n",
       "      <td>1422</td>\n",
       "      <td>...</td>\n",
       "      <td>BrkFace</td>\n",
       "      <td>StoneBr</td>\n",
       "      <td>Y</td>\n",
       "      <td>CompShg</td>\n",
       "      <td>Gable</td>\n",
       "      <td>Partial</td>\n",
       "      <td>New</td>\n",
       "      <td>Pave</td>\n",
       "      <td>AllPub</td>\n",
       "      <td>242759.443804</td>\n",
       "    </tr>\n",
       "    <tr>\n",
       "      <th>2</th>\n",
       "      <td>300</td>\n",
       "      <td>20</td>\n",
       "      <td>80.0</td>\n",
       "      <td>14000</td>\n",
       "      <td>6</td>\n",
       "      <td>8</td>\n",
       "      <td>1950</td>\n",
       "      <td>2004</td>\n",
       "      <td>0.0</td>\n",
       "      <td>0</td>\n",
       "      <td>...</td>\n",
       "      <td>None</td>\n",
       "      <td>Crawfor</td>\n",
       "      <td>Y</td>\n",
       "      <td>CompShg</td>\n",
       "      <td>Gable</td>\n",
       "      <td>Family</td>\n",
       "      <td>WD</td>\n",
       "      <td>Pave</td>\n",
       "      <td>AllPub</td>\n",
       "      <td>163357.713781</td>\n",
       "    </tr>\n",
       "    <tr>\n",
       "      <th>3</th>\n",
       "      <td>1087</td>\n",
       "      <td>160</td>\n",
       "      <td>NaN</td>\n",
       "      <td>1974</td>\n",
       "      <td>4</td>\n",
       "      <td>5</td>\n",
       "      <td>1973</td>\n",
       "      <td>1973</td>\n",
       "      <td>0.0</td>\n",
       "      <td>334</td>\n",
       "      <td>...</td>\n",
       "      <td>None</td>\n",
       "      <td>MeadowV</td>\n",
       "      <td>Y</td>\n",
       "      <td>CompShg</td>\n",
       "      <td>Gable</td>\n",
       "      <td>Normal</td>\n",
       "      <td>WD</td>\n",
       "      <td>Pave</td>\n",
       "      <td>AllPub</td>\n",
       "      <td>128276.882677</td>\n",
       "    </tr>\n",
       "    <tr>\n",
       "      <th>4</th>\n",
       "      <td>390</td>\n",
       "      <td>60</td>\n",
       "      <td>96.0</td>\n",
       "      <td>12474</td>\n",
       "      <td>10</td>\n",
       "      <td>5</td>\n",
       "      <td>2007</td>\n",
       "      <td>2008</td>\n",
       "      <td>272.0</td>\n",
       "      <td>1280</td>\n",
       "      <td>...</td>\n",
       "      <td>Stone</td>\n",
       "      <td>NridgHt</td>\n",
       "      <td>Y</td>\n",
       "      <td>CompShg</td>\n",
       "      <td>Gable</td>\n",
       "      <td>Partial</td>\n",
       "      <td>New</td>\n",
       "      <td>Pave</td>\n",
       "      <td>AllPub</td>\n",
       "      <td>262949.454219</td>\n",
       "    </tr>\n",
       "    <tr>\n",
       "      <th>...</th>\n",
       "      <td>...</td>\n",
       "      <td>...</td>\n",
       "      <td>...</td>\n",
       "      <td>...</td>\n",
       "      <td>...</td>\n",
       "      <td>...</td>\n",
       "      <td>...</td>\n",
       "      <td>...</td>\n",
       "      <td>...</td>\n",
       "      <td>...</td>\n",
       "      <td>...</td>\n",
       "      <td>...</td>\n",
       "      <td>...</td>\n",
       "      <td>...</td>\n",
       "      <td>...</td>\n",
       "      <td>...</td>\n",
       "      <td>...</td>\n",
       "      <td>...</td>\n",
       "      <td>...</td>\n",
       "      <td>...</td>\n",
       "      <td>...</td>\n",
       "    </tr>\n",
       "    <tr>\n",
       "      <th>433</th>\n",
       "      <td>781</td>\n",
       "      <td>20</td>\n",
       "      <td>63.0</td>\n",
       "      <td>7875</td>\n",
       "      <td>7</td>\n",
       "      <td>5</td>\n",
       "      <td>1995</td>\n",
       "      <td>1996</td>\n",
       "      <td>38.0</td>\n",
       "      <td>0</td>\n",
       "      <td>...</td>\n",
       "      <td>BrkFace</td>\n",
       "      <td>Gilbert</td>\n",
       "      <td>Y</td>\n",
       "      <td>CompShg</td>\n",
       "      <td>Gable</td>\n",
       "      <td>Normal</td>\n",
       "      <td>WD</td>\n",
       "      <td>Pave</td>\n",
       "      <td>AllPub</td>\n",
       "      <td>178362.010895</td>\n",
       "    </tr>\n",
       "    <tr>\n",
       "      <th>434</th>\n",
       "      <td>847</td>\n",
       "      <td>60</td>\n",
       "      <td>75.0</td>\n",
       "      <td>9317</td>\n",
       "      <td>7</td>\n",
       "      <td>5</td>\n",
       "      <td>1993</td>\n",
       "      <td>1993</td>\n",
       "      <td>137.0</td>\n",
       "      <td>513</td>\n",
       "      <td>...</td>\n",
       "      <td>BrkFace</td>\n",
       "      <td>SawyerW</td>\n",
       "      <td>Y</td>\n",
       "      <td>CompShg</td>\n",
       "      <td>Gable</td>\n",
       "      <td>Normal</td>\n",
       "      <td>WD</td>\n",
       "      <td>Pave</td>\n",
       "      <td>AllPub</td>\n",
       "      <td>201556.181796</td>\n",
       "    </tr>\n",
       "    <tr>\n",
       "      <th>435</th>\n",
       "      <td>32</td>\n",
       "      <td>20</td>\n",
       "      <td>NaN</td>\n",
       "      <td>8544</td>\n",
       "      <td>5</td>\n",
       "      <td>6</td>\n",
       "      <td>1966</td>\n",
       "      <td>2006</td>\n",
       "      <td>0.0</td>\n",
       "      <td>0</td>\n",
       "      <td>...</td>\n",
       "      <td>None</td>\n",
       "      <td>Sawyer</td>\n",
       "      <td>Y</td>\n",
       "      <td>CompShg</td>\n",
       "      <td>Gable</td>\n",
       "      <td>Normal</td>\n",
       "      <td>WD</td>\n",
       "      <td>Pave</td>\n",
       "      <td>AllPub</td>\n",
       "      <td>167649.230206</td>\n",
       "    </tr>\n",
       "    <tr>\n",
       "      <th>436</th>\n",
       "      <td>548</td>\n",
       "      <td>85</td>\n",
       "      <td>54.0</td>\n",
       "      <td>7244</td>\n",
       "      <td>5</td>\n",
       "      <td>7</td>\n",
       "      <td>1970</td>\n",
       "      <td>1970</td>\n",
       "      <td>0.0</td>\n",
       "      <td>619</td>\n",
       "      <td>...</td>\n",
       "      <td>None</td>\n",
       "      <td>Mitchel</td>\n",
       "      <td>Y</td>\n",
       "      <td>CompShg</td>\n",
       "      <td>Gable</td>\n",
       "      <td>Normal</td>\n",
       "      <td>WD</td>\n",
       "      <td>Pave</td>\n",
       "      <td>AllPub</td>\n",
       "      <td>164301.220745</td>\n",
       "    </tr>\n",
       "    <tr>\n",
       "      <th>437</th>\n",
       "      <td>855</td>\n",
       "      <td>20</td>\n",
       "      <td>102.0</td>\n",
       "      <td>17920</td>\n",
       "      <td>5</td>\n",
       "      <td>4</td>\n",
       "      <td>1955</td>\n",
       "      <td>1974</td>\n",
       "      <td>0.0</td>\n",
       "      <td>306</td>\n",
       "      <td>...</td>\n",
       "      <td>None</td>\n",
       "      <td>Sawyer</td>\n",
       "      <td>Y</td>\n",
       "      <td>CompShg</td>\n",
       "      <td>Hip</td>\n",
       "      <td>Abnorml</td>\n",
       "      <td>WD</td>\n",
       "      <td>Pave</td>\n",
       "      <td>AllPub</td>\n",
       "      <td>185795.332731</td>\n",
       "    </tr>\n",
       "  </tbody>\n",
       "</table>\n",
       "<p>438 rows × 77 columns</p>\n",
       "</div>"
      ],
      "text/plain": [
       "       Id  MSSubClass  LotFrontage  LotArea  OverallQual  OverallCond  \\\n",
       "0    1381          30         45.0     8212            3            3   \n",
       "1     596          20         69.0    11302            8            5   \n",
       "2     300          20         80.0    14000            6            8   \n",
       "3    1087         160          NaN     1974            4            5   \n",
       "4     390          60         96.0    12474           10            5   \n",
       "..    ...         ...          ...      ...          ...          ...   \n",
       "433   781          20         63.0     7875            7            5   \n",
       "434   847          60         75.0     9317            7            5   \n",
       "435    32          20          NaN     8544            5            6   \n",
       "436   548          85         54.0     7244            5            7   \n",
       "437   855          20        102.0    17920            5            4   \n",
       "\n",
       "     YearBuilt  YearRemodAdd  MasVnrArea  BsmtFinSF1  ...  MasVnrType  \\\n",
       "0         1914          1950         0.0         203  ...        None   \n",
       "1         2005          2006       238.0        1422  ...     BrkFace   \n",
       "2         1950          2004         0.0           0  ...        None   \n",
       "3         1973          1973         0.0         334  ...        None   \n",
       "4         2007          2008       272.0        1280  ...       Stone   \n",
       "..         ...           ...         ...         ...  ...         ...   \n",
       "433       1995          1996        38.0           0  ...     BrkFace   \n",
       "434       1993          1993       137.0         513  ...     BrkFace   \n",
       "435       1966          2006         0.0           0  ...        None   \n",
       "436       1970          1970         0.0         619  ...        None   \n",
       "437       1955          1974         0.0         306  ...        None   \n",
       "\n",
       "     Neighborhood  PavedDrive  RoofMatl  RoofStyle  SaleCondition  SaleType  \\\n",
       "0         Edwards           Y   CompShg      Gable         Normal        WD   \n",
       "1         StoneBr           Y   CompShg      Gable        Partial       New   \n",
       "2         Crawfor           Y   CompShg      Gable         Family        WD   \n",
       "3         MeadowV           Y   CompShg      Gable         Normal        WD   \n",
       "4         NridgHt           Y   CompShg      Gable        Partial       New   \n",
       "..            ...         ...       ...        ...            ...       ...   \n",
       "433       Gilbert           Y   CompShg      Gable         Normal        WD   \n",
       "434       SawyerW           Y   CompShg      Gable         Normal        WD   \n",
       "435        Sawyer           Y   CompShg      Gable         Normal        WD   \n",
       "436       Mitchel           Y   CompShg      Gable         Normal        WD   \n",
       "437        Sawyer           Y   CompShg        Hip        Abnorml        WD   \n",
       "\n",
       "     Street  Utilities  SalePricePredicted  \n",
       "0      Pave     AllPub       123890.435783  \n",
       "1      Pave     AllPub       242759.443804  \n",
       "2      Pave     AllPub       163357.713781  \n",
       "3      Pave     AllPub       128276.882677  \n",
       "4      Pave     AllPub       262949.454219  \n",
       "..      ...        ...                 ...  \n",
       "433    Pave     AllPub       178362.010895  \n",
       "434    Pave     AllPub       201556.181796  \n",
       "435    Pave     AllPub       167649.230206  \n",
       "436    Pave     AllPub       164301.220745  \n",
       "437    Pave     AllPub       185795.332731  \n",
       "\n",
       "[438 rows x 77 columns]"
      ]
     },
     "execution_count": 5,
     "metadata": {},
     "output_type": "execute_result"
    }
   ],
   "source": [
    "prediction_df = predict(test_df, model)\n",
    "prediction_df"
   ]
  },
  {
   "cell_type": "markdown",
   "id": "97fff31d-c69c-4d59-9b71-5b9a139c4c63",
   "metadata": {},
   "source": [
    "モデルの性能を計測しましょう。`squared=False`にすることで平方根を取ったRMSEが得られます。"
   ]
  },
  {
   "cell_type": "code",
   "execution_count": 6,
   "id": "d2222c8b-37ea-421f-8436-40092732cda7",
   "metadata": {},
   "outputs": [
    {
     "name": "stdout",
     "output_type": "stream",
     "text": [
      "Mean squared error 51108.524838175435\n"
     ]
    }
   ],
   "source": [
    "from sklearn.metrics import mean_squared_error\n",
    "\n",
    "\n",
    "rmse = mean_squared_error(prediction_df[\"SalePrice\"], prediction_df[\"SalePricePredicted\"], squared=False)\n",
    "print(f\"Mean squared error {rmse}\")"
   ]
  },
  {
   "cell_type": "markdown",
   "id": "707273ee-9710-48c5-b4de-b99fb31914f6",
   "metadata": {},
   "source": [
    "住宅の価格が100,000ドル~と考えると、RMSEはそこそこの値と見えます。予測の分布を比較してみると、元の値と大体同じ分布になっていることがわかります。"
   ]
  },
  {
   "cell_type": "code",
   "execution_count": 7,
   "id": "dfebcfa9-72e8-488f-af53-bd7c94447a4d",
   "metadata": {},
   "outputs": [
    {
     "data": {
      "text/plain": [
       "<AxesSubplot:ylabel='Frequency'>"
      ]
     },
     "execution_count": 7,
     "metadata": {},
     "output_type": "execute_result"
    },
    {
     "data": {
      "image/png": "[encoded data removed]",
      "text/plain": [
       "<Figure size 432x288 with 1 Axes>"
      ]
     },
     "metadata": {
      "needs_background": "light"
     },
     "output_type": "display_data"
    }
   ],
   "source": [
    "pd.concat([prediction_df[\"SalePrice\"], prediction_df[\"SalePricePredicted\"]], axis=1).plot.hist(bins=12, alpha=0.5)"
   ]
  },
  {
   "cell_type": "markdown",
   "id": "e06f2454-9ff0-40cd-9353-e7e11e17737c",
   "metadata": {},
   "source": [
    "*Exercise: もう片方のモデルでも性能を計測してみましょう*"
   ]
  },
  {
   "cell_type": "code",
   "execution_count": 8,
   "id": "8ba7e4d5-b99c-453e-b6a1-c9c88678945e",
   "metadata": {},
   "outputs": [
    {
     "name": "stdout",
     "output_type": "stream",
     "text": [
      "Mean squared error 51108.524838175435\n"
     ]
    }
   ],
   "source": [
    "prediction_other_df = predict(test_df, other_model)\n",
    "rmse = mean_squared_error(prediction_other_df[\"SalePrice\"], prediction_other_df[\"SalePricePredicted\"], squared=False)\n",
    "print(f\"Mean squared error {rmse}\")"
   ]
  },
  {
   "cell_type": "code",
   "execution_count": 9,
   "id": "82be3513-e479-43e9-a147-c4fd41199ac3",
   "metadata": {},
   "outputs": [
    {
     "data": {
      "text/plain": [
       "<AxesSubplot:ylabel='Frequency'>"
      ]
     },
     "execution_count": 9,
     "metadata": {},
     "output_type": "execute_result"
    },
    {
     "data": {
      "image/png": "[encoded data removed]",
      "text/plain": [
       "<Figure size 432x288 with 1 Axes>"
      ]
     },
     "metadata": {
      "needs_background": "light"
     },
     "output_type": "display_data"
    }
   ],
   "source": [
    "pd.concat([prediction_other_df[\"SalePrice\"], prediction_other_df[\"SalePricePredicted\"]], axis=1).plot.hist(bins=12, alpha=0.5)"
   ]
  },
  {
   "cell_type": "markdown",
   "id": "2cca8cfc-950c-4149-b88a-42bdf9295146",
   "metadata": {},
   "source": [
    "#### モデルの頑健性\n",
    "\n",
    "モデルの予測が入力値に応じて大きく変動してしまわないかは、実際使用するうえで重要です。\n",
    "入力の変化に応じた出力の変化が起きているかでモデルの頑健性を評価する手法をメタモルフィックテストと呼びます。モデルの出力が予測の範囲内に収まるかどうかを検証するのに有効なテストです。\n",
    "\n",
    "特徴として最も顕著に効いている`OverallQual`を変化させたときにどのように予測が変わるか検証してみましょう。"
   ]
  },
  {
   "cell_type": "code",
   "execution_count": 10,
   "id": "89046414-88b8-4d5e-8beb-1ced7ffdad14",
   "metadata": {},
   "outputs": [],
   "source": [
    "def metamorphic_test(df, model, column, factor=1.0):\n",
    "    _df = df.copy()\n",
    "    _df[column] = _df[column] * factor\n",
    "    _df = predict(_df, model)\n",
    "    compare_df = pd.concat([prediction_df[\"SalePrice\"], _df[\"SalePricePredicted\"]], axis=1)\n",
    "    return compare_df.plot.hist(bins=12, alpha=0.5)"
   ]
  },
  {
   "cell_type": "code",
   "execution_count": 11,
   "id": "a79dce52-7751-4c0c-ba83-03b17f6b65e3",
   "metadata": {},
   "outputs": [
    {
     "data": {
      "text/plain": [
       "<AxesSubplot:ylabel='Frequency'>"
      ]
     },
     "execution_count": 11,
     "metadata": {},
     "output_type": "execute_result"
    },
    {
     "data": {
      "image/png": "[encoded data removed]",
      "text/plain": [
       "<Figure size 432x288 with 1 Axes>"
      ]
     },
     "metadata": {
      "needs_background": "light"
     },
     "output_type": "display_data"
    },
    {
     "data": {
      "image/png": "[encoded data removed]",
      "text/plain": [
       "<Figure size 432x288 with 1 Axes>"
      ]
     },
     "metadata": {
      "needs_background": "light"
     },
     "output_type": "display_data"
    },
    {
     "data": {
      "image/png": "[encoded data removed]",
      "text/plain": [
       "<Figure size 432x288 with 1 Axes>"
      ]
     },
     "metadata": {
      "needs_background": "light"
     },
     "output_type": "display_data"
    }
   ],
   "source": [
    "metamorphic_test(test_df, model, \"OverallQual\", 0.5)\n",
    "metamorphic_test(test_df, model, \"OverallQual\", 1.0)\n",
    "metamorphic_test(test_df, model, \"OverallQual\", 2.0)"
   ]
  },
  {
   "cell_type": "markdown",
   "id": "e833780b-37c8-4369-b406-34f7ec758356",
   "metadata": {},
   "source": [
    "価格の分布が大きくずれていることがわかります。\n",
    "\n",
    "モデルの性能と頑健性が、Business goalのうち機械学習モデルの担当分であるModel Usage Impactの達成に十分であるかを、コミュニケーション演習で確認しましょう。"
   ]
  },
  {
   "cell_type": "markdown",
   "id": "48857473-18f4-48ae-9888-9c7ec460dd0f",
   "metadata": {},
   "source": [
    "### コミュニケーション演習\n",
    "\n",
    "プログラミング演習でモデルの性能と頑健性についてレポートを作成しました。誰にどのような質問をすべきでしょうか。\n",
    "\n",
    "ロールの種別\n",
    "\n",
    "| 英語名             | 日本語名                   | 役割                                                                 |\n",
    "|--------------------|----------------------------|----------------------------------------------------------------------|\n",
    "| Product Manager    | プロダクトマネージャー     | ユーザー体験を向上させるために実装すべきソフトウェア機能を定義する。 |\n",
    "| Business Analyst   | ビジネスアナリスト         | 解決すべきビジネス上の問題を定義する                                 |\n",
    "| Data Analyst       | データアナリスト           | データの可視化と分析で問題を定量的に特定する。                       |\n",
    "| Architect          | アーキテクト               | ソフトウェアアーキテクチャ全体を設計する。                           |\n",
    "| DevOps Engineer    | DevOpsエンジニア           | ソフトウェアの開発・運用プロセスを自動化する。                       |\n",
    "| Software Engineer  | ソフトウェアエンジニア     | ソフトウェアの開発を行う。                                           |\n",
    "| Operator           | 業務担当者                 | ソフトウェアを利用し業務を行う。                                     |\n",
    "| System Admin       | システム管理者             | サービスの挙動を監視する。                                           |\n",
    "| IT Auditor         | IT監督者                   | システムや会社全体の権限管理や監査を行う。                           |\n",
    "| Data architect     | データアーキテクト         | データを管理する基盤を設計、運用する。                               |\n",
    "| Domain Expert      | 業務有識者                 | 深い業務知識を持ちデータの意味やあるべき状態について定義する。       |\n",
    "| Data Engineer      | データエンジニア           | 機械学習モデルに入力可能なデータと特徴を作成する。                   |\n",
    "| Data Scientist     | データサイエンティスト     | 機械学習モデルを開発する。                                           |\n",
    "| ML Engineer        | 機械学習エンジニア         | 機械学習モデルを本番環境にデプロイ可能な形式に変換する。             |\n",
    "| ML Operator        | 業務担当者(機械学習側)     | 推論結果に基づき業務を行いつつ、フィードバックを与える。             |\n",
    "| Model risk Manager | 機械学習モデルリスク管理者 | 機械学習モデルの推論の挙動を監視する。                               |\n",
    "| MLOps Engineer     | MLOpsエンジニア            | 機械学習モデルの開発・運用プロセスを自動化する。                     |\n",
    "| AI/ML Architect    | AI/MLアーキテクト          | 機械学習モデル開発に必要なアーキテクチャ全体を設計する。             |\n",
    "\n",
    "依頼の種別\n",
    "\n",
    "* 情報共有: 開発に必要な情報/ドキュメントの提供を依頼する\n",
    "* 作業: 開発に必要な作業を分担(依頼)する\n",
    "* レビュー: 作業の確度を上げるため/承認を得るためレビューを依頼する\n"
   ]
  },
  {
   "cell_type": "markdown",
   "id": "e722dced-2a4d-443a-895d-462bf3db883a",
   "metadata": {},
   "source": [
    "#### ビジネスチームへの依頼例\n",
    "\n",
    "Domain ExpertやProduct Managerに次の確認をするとよいでしょう。\n",
    "\n",
    "* レビュー(Domain Expert)\n",
    "   * 業務上頻繁なケースについて、機械学習モデルの予測はどれぐらい利用できますか?(100%、80%、50%、20%など)\n",
    "   * 予測を使うことで価格を設定する時間はどの程度下がりますか。\n",
    "* レビュー(Product Manager)\n",
    "   * 機械学習モデルをリリースしていくために、追加で検証すべきシナリオや合意しておくべきステークホルダーはいますか。\n",
    "\n",
    "## AWS Empowerment\n",
    "\n",
    "1. Model Monitor\n",
    "2. SageMaker Model Registry\n",
    "\n",
    "## Next Step\n",
    "\n",
    "[おわりに](../docs/ending.md)\n",
    "\n",
    "## References\n",
    "\n",
    "1. 佐藤直人, 小川秀人, 來間啓伸 and 明神智之. [AIソフトウェアのテスト](https://www.amazon.co.jp/dp/B095W5VGB3/ref=dp-kindle-redirect?_encoding=UTF8&btkr=1). 2021.\n"
   ]
  }
 ],
 "metadata": {
  "interpreter": {
   "hash": "995bf9c94fb9f9c19b7639a039b395350a7b1168d29f9d7468f6b428e988fe28"
  },
  "kernelspec": {
   "display_name": "ml-handson:Python",
   "language": "python",
   "name": "python3"
  },
  "language_info": {
   "codemirror_mode": {
    "name": "ipython",
    "version": 3
   },
   "file_extension": ".py",
   "mimetype": "text/x-python",
   "name": "python",
   "nbconvert_exporter": "python",
   "pygments_lexer": "ipython3",
   "version": "3.9.7"
  },
  "toc-autonumbering": false,
  "toc-showcode": false,
  "toc-showmarkdowntxt": false
 },
 "nbformat": 4,
 "nbformat_minor": 5
}
